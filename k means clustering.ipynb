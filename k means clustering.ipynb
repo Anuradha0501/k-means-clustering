{
 "cells": [
  {
   "cell_type": "code",
   "execution_count": 4,
   "metadata": {},
   "outputs": [],
   "source": [
    "import pandas as pd\n",
    "import numpy as np\n",
    "import random as rd\n",
    "import matplotlib.pyplot as plt"
   ]
  },
  {
   "cell_type": "code",
   "execution_count": 5,
   "metadata": {},
   "outputs": [
    {
     "data": {
      "text/html": [
       "<div>\n",
       "<style scoped>\n",
       "    .dataframe tbody tr th:only-of-type {\n",
       "        vertical-align: middle;\n",
       "    }\n",
       "\n",
       "    .dataframe tbody tr th {\n",
       "        vertical-align: top;\n",
       "    }\n",
       "\n",
       "    .dataframe thead th {\n",
       "        text-align: right;\n",
       "    }\n",
       "</style>\n",
       "<table border=\"1\" class=\"dataframe\">\n",
       "  <thead>\n",
       "    <tr style=\"text-align: right;\">\n",
       "      <th></th>\n",
       "      <th>Loan_ID</th>\n",
       "      <th>Gender</th>\n",
       "      <th>Married</th>\n",
       "      <th>Dependents</th>\n",
       "      <th>Education</th>\n",
       "      <th>Self_Employed</th>\n",
       "      <th>ApplicantIncome</th>\n",
       "      <th>CoapplicantIncome</th>\n",
       "      <th>LoanAmount</th>\n",
       "      <th>Loan_Amount_Term</th>\n",
       "      <th>Credit_History</th>\n",
       "      <th>Property_Area</th>\n",
       "      <th>Loan_Status</th>\n",
       "    </tr>\n",
       "  </thead>\n",
       "  <tbody>\n",
       "    <tr>\n",
       "      <th>0</th>\n",
       "      <td>LP001003</td>\n",
       "      <td>Male</td>\n",
       "      <td>Yes</td>\n",
       "      <td>1</td>\n",
       "      <td>Graduate</td>\n",
       "      <td>No</td>\n",
       "      <td>4583</td>\n",
       "      <td>1508.0</td>\n",
       "      <td>128.0</td>\n",
       "      <td>360.0</td>\n",
       "      <td>1.0</td>\n",
       "      <td>Rural</td>\n",
       "      <td>N</td>\n",
       "    </tr>\n",
       "    <tr>\n",
       "      <th>1</th>\n",
       "      <td>LP001005</td>\n",
       "      <td>Male</td>\n",
       "      <td>Yes</td>\n",
       "      <td>0</td>\n",
       "      <td>Graduate</td>\n",
       "      <td>Yes</td>\n",
       "      <td>3000</td>\n",
       "      <td>0.0</td>\n",
       "      <td>66.0</td>\n",
       "      <td>360.0</td>\n",
       "      <td>1.0</td>\n",
       "      <td>Urban</td>\n",
       "      <td>Y</td>\n",
       "    </tr>\n",
       "    <tr>\n",
       "      <th>2</th>\n",
       "      <td>LP001006</td>\n",
       "      <td>Male</td>\n",
       "      <td>Yes</td>\n",
       "      <td>0</td>\n",
       "      <td>Not Graduate</td>\n",
       "      <td>No</td>\n",
       "      <td>2583</td>\n",
       "      <td>2358.0</td>\n",
       "      <td>120.0</td>\n",
       "      <td>360.0</td>\n",
       "      <td>1.0</td>\n",
       "      <td>Urban</td>\n",
       "      <td>Y</td>\n",
       "    </tr>\n",
       "    <tr>\n",
       "      <th>3</th>\n",
       "      <td>LP001008</td>\n",
       "      <td>Male</td>\n",
       "      <td>No</td>\n",
       "      <td>0</td>\n",
       "      <td>Graduate</td>\n",
       "      <td>No</td>\n",
       "      <td>6000</td>\n",
       "      <td>0.0</td>\n",
       "      <td>141.0</td>\n",
       "      <td>360.0</td>\n",
       "      <td>1.0</td>\n",
       "      <td>Urban</td>\n",
       "      <td>Y</td>\n",
       "    </tr>\n",
       "    <tr>\n",
       "      <th>4</th>\n",
       "      <td>LP001013</td>\n",
       "      <td>Male</td>\n",
       "      <td>Yes</td>\n",
       "      <td>0</td>\n",
       "      <td>Not Graduate</td>\n",
       "      <td>No</td>\n",
       "      <td>2333</td>\n",
       "      <td>1516.0</td>\n",
       "      <td>95.0</td>\n",
       "      <td>360.0</td>\n",
       "      <td>1.0</td>\n",
       "      <td>Urban</td>\n",
       "      <td>Y</td>\n",
       "    </tr>\n",
       "  </tbody>\n",
       "</table>\n",
       "</div>"
      ],
      "text/plain": [
       "    Loan_ID Gender Married Dependents     Education Self_Employed  \\\n",
       "0  LP001003   Male     Yes          1      Graduate            No   \n",
       "1  LP001005   Male     Yes          0      Graduate           Yes   \n",
       "2  LP001006   Male     Yes          0  Not Graduate            No   \n",
       "3  LP001008   Male      No          0      Graduate            No   \n",
       "4  LP001013   Male     Yes          0  Not Graduate            No   \n",
       "\n",
       "   ApplicantIncome  CoapplicantIncome  LoanAmount  Loan_Amount_Term  \\\n",
       "0             4583             1508.0       128.0             360.0   \n",
       "1             3000                0.0        66.0             360.0   \n",
       "2             2583             2358.0       120.0             360.0   \n",
       "3             6000                0.0       141.0             360.0   \n",
       "4             2333             1516.0        95.0             360.0   \n",
       "\n",
       "   Credit_History Property_Area Loan_Status  \n",
       "0             1.0         Rural           N  \n",
       "1             1.0         Urban           Y  \n",
       "2             1.0         Urban           Y  \n",
       "3             1.0         Urban           Y  \n",
       "4             1.0         Urban           Y  "
      ]
     },
     "execution_count": 5,
     "metadata": {},
     "output_type": "execute_result"
    }
   ],
   "source": [
    "data = pd.read_csv('clustering.csv')\n",
    "data.head() #this will read first five rows of the data"
   ]
  },
  {
   "cell_type": "code",
   "execution_count": 6,
   "metadata": {},
   "outputs": [
    {
     "data": {
      "image/png": "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\n",
      "text/plain": [
       "<Figure size 432x288 with 1 Axes>"
      ]
     },
     "metadata": {
      "needs_background": "light"
     },
     "output_type": "display_data"
    }
   ],
   "source": [
    "X = data[[\"LoanAmount\",\"ApplicantIncome\"]]\n",
    "#Visualise data points\n",
    "plt.scatter(X[\"ApplicantIncome\"],X[\"LoanAmount\"],c='black')\n",
    "plt.xlabel('AnnualIncome')\n",
    "plt.ylabel('Loan Amount (In Thousands)')\n",
    "plt.show()"
   ]
  },
  {
   "cell_type": "code",
   "execution_count": 7,
   "metadata": {},
   "outputs": [
    {
     "data": {
      "image/png": "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\n",
      "text/plain": [
       "<Figure size 432x288 with 1 Axes>"
      ]
     },
     "metadata": {
      "needs_background": "light"
     },
     "output_type": "display_data"
    }
   ],
   "source": [
    "# Step 1 and 2 - Choose the number of clusters (k) and select random centroid for each cluster\n",
    "\n",
    "#number of clusters\n",
    "K=3\n",
    "\n",
    "# Select random observation as centroids\n",
    "Centroids = (X.sample(n=K))\n",
    "plt.scatter(X[\"ApplicantIncome\"],X[\"LoanAmount\"],c='black')\n",
    "plt.scatter(Centroids[\"ApplicantIncome\"],Centroids[\"LoanAmount\"],c='red')\n",
    "plt.xlabel('AnnualIncome')\n",
    "plt.ylabel('Loan Amount (In Thousands)')\n",
    "plt.show()"
   ]
  },
  {
   "cell_type": "code",
   "execution_count": 8,
   "metadata": {},
   "outputs": [
    {
     "name": "stderr",
     "output_type": "stream",
     "text": [
      "C:\\Users\\123\\anaconda3\\lib\\site-packages\\ipykernel_launcher.py:18: SettingWithCopyWarning: \n",
      "A value is trying to be set on a copy of a slice from a DataFrame.\n",
      "Try using .loc[row_indexer,col_indexer] = value instead\n",
      "\n",
      "See the caveats in the documentation: https://pandas.pydata.org/pandas-docs/stable/user_guide/indexing.html#returning-a-view-versus-a-copy\n",
      "C:\\Users\\123\\anaconda3\\lib\\site-packages\\ipykernel_launcher.py:30: SettingWithCopyWarning: \n",
      "A value is trying to be set on a copy of a slice from a DataFrame.\n",
      "Try using .loc[row_indexer,col_indexer] = value instead\n",
      "\n",
      "See the caveats in the documentation: https://pandas.pydata.org/pandas-docs/stable/user_guide/indexing.html#returning-a-view-versus-a-copy\n"
     ]
    },
    {
     "name": "stdout",
     "output_type": "stream",
     "text": [
      "404.3808357936483\n",
      "408.75308176547856\n",
      "197.17669406311808\n",
      "190.44886908155453\n",
      "190.3317152975772\n",
      "320.86544014225217\n",
      "235.63273762230665\n",
      "248.74878646215663\n",
      "125.16501318300665\n",
      "52.84741626127729\n",
      "98.54724443834282\n",
      "90.64953219227577\n",
      "18.274686272279013\n",
      "9.21023994083339\n",
      "18.345487493007468\n",
      "46.27013250786139\n",
      "0.0\n"
     ]
    }
   ],
   "source": [
    "# Step 3 - Assign all the points to the closest cluster centroid\n",
    "# Step 4 - Recompute centroids of newly formed clusters\n",
    "# Step 5 - Repeat step 3 and 4\n",
    "\n",
    "diff = 1\n",
    "j=0\n",
    "\n",
    "while(diff!=0):\n",
    "    XD=X\n",
    "    i=1\n",
    "    for index1,row_c in Centroids.iterrows():\n",
    "        ED=[]\n",
    "        for index2,row_d in XD.iterrows():\n",
    "            d1=(row_c[\"ApplicantIncome\"]-row_d[\"ApplicantIncome\"])**2\n",
    "            d2=(row_c[\"LoanAmount\"]-row_d[\"LoanAmount\"])**2\n",
    "            d=np.sqrt(d1+d2)\n",
    "            ED.append(d)\n",
    "        X[i]=ED\n",
    "        i=i+1\n",
    "\n",
    "    C=[]\n",
    "    for index,row in X.iterrows():\n",
    "        min_dist=row[1]\n",
    "        pos=1\n",
    "        for i in range(K):\n",
    "            if row[i+1] < min_dist:\n",
    "                min_dist = row[i+1]\n",
    "                pos=i+1\n",
    "        C.append(pos)\n",
    "    X[\"Cluster\"]=C\n",
    "    Centroids_new = X.groupby([\"Cluster\"]).mean()[[\"LoanAmount\",\"ApplicantIncome\"]]\n",
    "    if j == 0:\n",
    "        diff=1\n",
    "        j=j+1\n",
    "    else:\n",
    "        diff = (Centroids_new['LoanAmount'] - Centroids['LoanAmount']).sum() + (Centroids_new['ApplicantIncome'] - Centroids['ApplicantIncome']).sum()\n",
    "        print(diff.sum())\n",
    "    Centroids = X.groupby([\"Cluster\"]).mean()[[\"LoanAmount\",\"ApplicantIncome\"]]"
   ]
  },
  {
   "cell_type": "code",
   "execution_count": 9,
   "metadata": {},
   "outputs": [
    {
     "data": {
     /* "image/png": "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\n",*/
      "text/plain": [
       "<Figure size 432x288 with 1 Axes>"
      ]
     },
     "metadata": {
      "needs_background": "light"
     },
     "output_type": "display_data"
    }
   ],
   "source": [
    "\n",
    "color=['blue','green','cyan']\n",
    "for k in range(K):\n",
    "    data=X[X[\"Cluster\"]==k+1]\n",
    "    plt.scatter(data[\"ApplicantIncome\"],data[\"LoanAmount\"],c=color[k])\n",
    "plt.scatter(Centroids[\"ApplicantIncome\"],Centroids[\"LoanAmount\"],c='red')\n",
    "plt.xlabel('Income')\n",
    "plt.ylabel('Loan Amount (In Thousands)')\n",
    "plt.show()"
   ]
  },
  {
   "cell_type": "code",
   "execution_count": 11,
   "metadata": {},
   "outputs": [],
   "source": []
  },
  {
   "cell_type": "code",
   "execution_count": null,
   "metadata": {},
   "outputs": [],
   "source": []
  }
 ],
 "metadata": {
  "kernelspec": {
   "display_name": "Python 3",
   "language": "python",
   "name": "python3"
  },
  "language_info": {
   "codemirror_mode": {
    "name": "ipython",
    "version": 3
   },
   "file_extension": ".py",
   "mimetype": "text/x-python",
   "name": "python",
   "nbconvert_exporter": "python",
   "pygments_lexer": "ipython3",
   "version": "3.7.6"
  }
 },
 "nbformat": 4,
 "nbformat_minor": 4
}
