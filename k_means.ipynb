import pandas as pd
import numpy as np
import random as rd
import matplotlib.pyplot as plt
